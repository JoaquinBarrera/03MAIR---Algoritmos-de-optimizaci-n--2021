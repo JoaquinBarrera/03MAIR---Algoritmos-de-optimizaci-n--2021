{
  "nbformat": 4,
  "nbformat_minor": 0,
  "metadata": {
    "colab": {
      "name": "Joaquin Barrera - Algoritmos de optimización - Trabajo práctico.ipynb",
      "provenance": [],
      "collapsed_sections": [],
      "include_colab_link": true
    },
    "kernelspec": {
      "name": "python3",
      "display_name": "Python 3"
    }
  },
  "cells": [
    {
      "cell_type": "markdown",
      "metadata": {
        "id": "view-in-github",
        "colab_type": "text"
      },
      "source": [
        "<a href=\"https://colab.research.google.com/github/JoaquinBarrera/03MAIR---Algoritmos-de-optimizaci-n--2021/blob/main/Joaquin_Barrera_Algoritmos_de_optimizaci%C3%B3n_Trabajo_pr%C3%A1ctico.ipynb\" target=\"_parent\"><img src=\"https://colab.research.google.com/assets/colab-badge.svg\" alt=\"Open In Colab\"/></a>"
      ]
    },
    {
      "cell_type": "markdown",
      "metadata": {
        "id": "hVbXYX-RfPWh"
      },
      "source": [
        "# Algoritmos de optimización - Seminario<br>\n",
        "Nombre y Apellidos: Joaquin Guillermo Barrera Barragan  <br>\n",
        "Url: https://github.com/.../03MAIR---Algoritmos-de-Optimizacion---2019/tree/master/SEMINARIO<br>\n",
        "Problema:\n",
        "\n",
        ">3. Combinar cifras y operaciones\n",
        "\n",
        "Descripción del problema:\n",
        "\n",
        "El problema consiste en analizar el siguiente problema y diseñar un algoritmo que lo resuelva.\n",
        "\n",
        "• Disponemos de las 9 cifras del 1 al 9 (excluimos el cero) y de los 4 signos básicos de las operaciones fundamentales: suma(+), resta(-), multiplicación(*) y división (/).\n",
        "\n",
        "• Debemos combinarlos alternativamente sin repetir ninguno de ellos para obtener una cantidad dada. Un ejemplo sería para obtener el 4: \n",
        "\n",
        "4+2-6/3*1 = 4\n",
        "\n",
        "\n",
        "\n",
        "\n",
        "\n",
        "\n",
        "                                        "
      ]
    },
    {
      "cell_type": "code",
      "metadata": {
        "id": "jBlAb9jjsNhV"
      },
      "source": [
        "import numpy as np\n",
        "import random\n",
        "import matplotlib.pyplot as plot\n",
        "import itertools"
      ],
      "execution_count": 1,
      "outputs": []
    },
    {
      "cell_type": "markdown",
      "metadata": {
        "id": "IyXcwFlbB0-I"
      },
      "source": [
        "Una manera de atacar el problema sería crear expresiones aleatorias con las condiciones descritas en el enunciado del problema e intentar que esas expresiones arrojen el número que estamos buscando de manera aleatoria, como se hace a continuación"
      ]
    },
    {
      "cell_type": "code",
      "metadata": {
        "id": "AiskKkzZfy4e"
      },
      "source": [
        "#Crear listas con los dígitos y operaciones descritas en el problema\n",
        "digitos = ['1','2','3','4','5','6','7','8','9'] \n",
        "operaciones = ['/','*','+','-']"
      ],
      "execution_count": 2,
      "outputs": []
    },
    {
      "cell_type": "code",
      "metadata": {
        "id": "P2KnXFS2vRNX",
        "colab": {
          "base_uri": "https://localhost:8080/"
        },
        "outputId": "0307eed8-36f7-4929-ce64-f43b2a8f0e1e"
      },
      "source": [
        "################################################################\n",
        "# Crea una expresión aleatoria con la forma que indica el problema\n",
        "################################################################\n",
        "\n",
        "def crear_expresion():\n",
        "  e = True                                        #Condición de parada para que el resultado de la expresión sea entero\n",
        "  while (e):\n",
        "    expresion = ''\n",
        "    dig_ex = random.sample(digitos, k = 5)        #Escoje 5 dígitos sin repetición\n",
        "    op_ex = random.sample(operaciones, k = 4)     #Escoje 4 operaciones sin repetición\n",
        "    \n",
        "    for i in range(4):\n",
        "      expresion = expresion + dig_ex[i] + op_ex[i]   #Junta los dígitos con las operaciones escogidas anteriormente para formar la expresión\n",
        "    expresion += dig_ex[4]                            #Añade el último dígito a la expresión\n",
        "    \n",
        "    if eval(expresion) % 1 == 0:                      #Evalúa si el resultado de la expresión es un entero\n",
        "        e = False\n",
        "        \n",
        "  return(expresion, eval(expresion))\n",
        "\n",
        "#Ejemplo expresión y resultado aleatorio\n",
        "crear_expresion()"
      ],
      "execution_count": 3,
      "outputs": [
        {
          "output_type": "execute_result",
          "data": {
            "text/plain": [
              "('3*8/1-6+4', 22.0)"
            ]
          },
          "metadata": {
            "tags": []
          },
          "execution_count": 3
        }
      ]
    },
    {
      "cell_type": "code",
      "metadata": {
        "colab": {
          "base_uri": "https://localhost:8080/"
        },
        "id": "QBfJYptlZlkd",
        "outputId": "427ae7a0-c2f0-42c6-fcef-65a9c5d5b4d6"
      },
      "source": [
        "###############################################################################\n",
        "# BUSQUEDA ALEATORIA\n",
        "###############################################################################\n",
        "\n",
        "def busqueda_aleatoria(problem, N):\n",
        "    \n",
        "  mejor_solucion = []\n",
        "  diferencia = 10e100                         #Inicializamos con un valor alto\n",
        "  cont = 0\n",
        "  for i in range(N):                                #Criterio de parada: repetir N veces pero podemos incluir otros\n",
        "    solucion, distancia = crear_expresion()         #Genera una solucion aleatoria #Calcula el valor objetivo(distancia total)\n",
        "    \n",
        "    if abs(problem - distancia) < diferencia:       #Compara con la mejor obtenida hasta ahora\n",
        "      mejor_solucion = solucion\n",
        "      diferencia = abs(problem - distancia)         #Actualizar diferencia\n",
        "      print(solucion,distancia)\n",
        "    \n",
        "    if diferencia == 0:            #Se ha encontrado el número deseado\n",
        "      break\n",
        "    cont +=1                       #Contar expresiones evaluadas antes de llegar al resultado, si es igual a N es que no se pudo encontrar el número\n",
        "      \n",
        "  print(\"Mejor solución:\" , mejor_solucion) \n",
        "  print(\"Distancia     :\" , eval(mejor_solucion)) \n",
        "  print('Expresiones evaluadas antes de llegar al resultado:', cont)\n",
        "  return mejor_solucion\n",
        "\n",
        "    \n",
        "#Busqueda aleatoria con 5000 iteraciones\n",
        "solucion = busqueda_aleatoria(70, 5000)"
      ],
      "execution_count": 4,
      "outputs": [
        {
          "output_type": "stream",
          "text": [
            "2*6/1-4+3 11.0\n",
            "9-3+4*8/2 22.0\n",
            "7-4+8/2*9 39.0\n",
            "9+5*7-6/3 42.0\n",
            "5-4+7/1*8 57.0\n",
            "9*7/1+3-5 61.0\n",
            "9*7-2+6/3 63.0\n",
            "8*9/1-7+2 67.0\n",
            "6/2+9*8-5 70.0\n",
            "Mejor solución: 6/2+9*8-5\n",
            "Distancia     : 70.0\n",
            "Expresiones evaluadas antes de llegar al resultado: 556\n"
          ],
          "name": "stdout"
        }
      ]
    },
    {
      "cell_type": "markdown",
      "metadata": {
        "id": "rZSq4qsaGZwr"
      },
      "source": [
        "También podría hacerse con un ciclo while, pero en este caso el algoritmo no se detiene hasta encontrar el resultado, lo cual hace que varíen mucho los tiempos de finalización."
      ]
    },
    {
      "cell_type": "code",
      "metadata": {
        "colab": {
          "base_uri": "https://localhost:8080/",
          "height": 35
        },
        "id": "D0wpGDbvwd63",
        "outputId": "a079aca1-3595-4368-e15e-2221b1562b7d"
      },
      "source": [
        "###########################################################\n",
        "# Buscar expresión para un valor dado \n",
        "###########################################################\n",
        "\n",
        "def encontrar_valor(n):\n",
        "  cont = 0\n",
        "  e = True                                  #Condición de parada \n",
        "  while e:\n",
        "    cont += 1\n",
        "    expresion, valor = crear_expresion()    #Crear expresión y evaluarla\n",
        "    if valor == n:                          #Comprobar si la évaluación de la expresión es igual al valor buscado\n",
        "      return (expresion +' = ' +str(eval(expresion)) + ' Iteraciones realizadas:' + str(cont))\n",
        "      e = False                             #Finalizar busqueda\n",
        "\n",
        "#Ejemplo\n",
        "encontrar_valor(70)"
      ],
      "execution_count": 5,
      "outputs": [
        {
          "output_type": "execute_result",
          "data": {
            "application/vnd.google.colaboratory.intrinsic+json": {
              "type": "string"
            },
            "text/plain": [
              "'8*9+5/1-7 = 70.0 Iteraciones realizadas:700'"
            ]
          },
          "metadata": {
            "tags": []
          },
          "execution_count": 5
        }
      ]
    },
    {
      "cell_type": "markdown",
      "metadata": {
        "id": "NbcfKAlAEmYp"
      },
      "source": [
        "## - ¿Qué valor mínimo se puede obtener según las condiciones del problema?"
      ]
    },
    {
      "cell_type": "markdown",
      "metadata": {
        "id": "D-72G_k0Evxv"
      },
      "source": [
        "Respuesta:\n",
        "\n",
        "El valor mínimo que se puede obtener según las condiciones del problemas es -69\n",
        "\n",
        "\n"
      ]
    },
    {
      "cell_type": "code",
      "metadata": {
        "colab": {
          "base_uri": "https://localhost:8080/"
        },
        "id": "CH3BN3yPyKjj",
        "outputId": "d72b5d6b-0d58-428e-975f-cd898f5c5544"
      },
      "source": [
        "#######################################################################\n",
        "# Busqueda valor mínimo\n",
        "#######################################################################\n",
        "\n",
        "def busqueda_aleatoria(N):  \n",
        "  mejor_solucion = []                    \n",
        "  mejor_distancia = float('inf')                    #Inicializamos con un valor alto\n",
        "  \n",
        "  for i in range(N):                                #Criterio de parada: repetir N veces pero podemos incluir otros\n",
        "    solucion, distancia = crear_expresion()         #Genera una expresion aleatoria  #Calcula el valor objetivo(valor mínimo)\n",
        "    \n",
        "    if distancia < mejor_distancia:                 #Compara con la mejor obtenida hasta ahora\n",
        "      mejor_solucion = solucion\n",
        "      mejor_distancia = distancia\n",
        "      \n",
        "  print(\"Expresión del valor mínimo:\" , mejor_solucion) \n",
        "  print(\"Valor mínimo:\" , mejor_distancia) \n",
        "  return mejor_solucion  \n",
        "\n",
        "#Busqueda aleatoria con 10000 iteraciones    \n",
        "solucion = busqueda_aleatoria(10000)   "
      ],
      "execution_count": 6,
      "outputs": [
        {
          "output_type": "stream",
          "text": [
            "Expresión del valor mínimo: 4/2+1-9*8\n",
            "Valor mínimo: -69.0\n"
          ],
          "name": "stdout"
        }
      ]
    },
    {
      "cell_type": "code",
      "metadata": {
        "id": "hxG4ZB9fzOaU"
      },
      "source": [
        ""
      ],
      "execution_count": 6,
      "outputs": []
    },
    {
      "cell_type": "markdown",
      "metadata": {
        "id": "0NLw039gE7jE"
      },
      "source": [
        "## - ¿Qué valor máximo se puede obtener según las condiciones del problema?"
      ]
    },
    {
      "cell_type": "markdown",
      "metadata": {
        "id": "8AbRu4NNE-X-"
      },
      "source": [
        "Respuesta:\n",
        "\n",
        "El valor máximo que se puede obtener según las condiciones del problemas es 77"
      ]
    },
    {
      "cell_type": "code",
      "metadata": {
        "colab": {
          "base_uri": "https://localhost:8080/"
        },
        "id": "fAfFJyNhzO9U",
        "outputId": "e73df64a-ec60-45b3-ee7d-74157fdb851a"
      },
      "source": [
        "#######################################################################\n",
        "# Busqueda valor máximo\n",
        "#######################################################################\n",
        "\n",
        "def busqueda_aleatoria(N):  \n",
        "  mejor_solucion = []\n",
        "  mejor_distancia = 0                               #Inicializamos con un valor bajo\n",
        "  \n",
        "  for i in range(N):                                #Criterio de parada: repetir N veces pero podemos incluir otros\n",
        "    solucion, distancia = crear_expresion()         #Genera una expresión aleatoria  #Calcula el valor objetivo(valor máximo)\n",
        "    \n",
        "    if distancia > mejor_distancia:                 #Compara con el máximo obtenido hasta ahora\n",
        "      mejor_solucion = solucion\n",
        "      mejor_distancia = distancia\n",
        "         \n",
        "  print(\"Expresión del valor máximo:\" , mejor_solucion) \n",
        "  print(\"Valor máximo:\" , mejor_distancia) \n",
        "  return mejor_solucion  \n",
        "    \n",
        "#Busqueda aleatoria con 10000 iteraciones    \n",
        "solucion = busqueda_aleatoria(10000)   "
      ],
      "execution_count": 7,
      "outputs": [
        {
          "output_type": "stream",
          "text": [
            "Expresión del valor máximo: 7+8*9-4/2\n",
            "Valor máximo: 77.0\n"
          ],
          "name": "stdout"
        }
      ]
    },
    {
      "cell_type": "markdown",
      "metadata": {
        "id": "2fEIPbAFFMcf"
      },
      "source": [
        "## -¿Es posible encontrar todos los valores enteros posibles entre dicho mínimo y máximo ?"
      ]
    },
    {
      "cell_type": "markdown",
      "metadata": {
        "id": "36stYTwMFRPT"
      },
      "source": [
        "Respuesta: \n",
        "\n",
        "Si es posible, a continuación vemos un histograma de los resultados al simular y calcular 10000 expresiones, donde vemos que todos los valores enteros entre -69 y 77 aparecieron al menos 1 vez. "
      ]
    },
    {
      "cell_type": "code",
      "metadata": {
        "id": "R0lf2iknx1e-"
      },
      "source": [
        "############################################################\n",
        "# Crear lista con n valores de expresiones aleatorias \n",
        "############################################################\n",
        "\n",
        "def resultados(n):\n",
        "  lista = []                                  #Lista de valores simulados\n",
        "  for i in range(n):\n",
        "    expresion, valor = crear_expresion()      #Crear expresiones y evaluarlas\n",
        "    lista.append(valor)                       #Guardar los valores de las expresiones creadas anteriormente en una lista\n",
        "  return(lista)\n"
      ],
      "execution_count": 8,
      "outputs": []
    },
    {
      "cell_type": "code",
      "metadata": {
        "colab": {
          "base_uri": "https://localhost:8080/"
        },
        "id": "DMqSaQHvkOjV",
        "outputId": "5bbc8e67-d17e-475f-f215-d50d40b4b1b1"
      },
      "source": [
        "lista = resultados(10000)\n",
        "Max = np.max(lista)\n",
        "Min = np.min(lista)\n",
        "print('Se calculan los valore máximos y minimos de los resultados')\n",
        "print('El valor máximo es =' + str(Max), '\\n' 'El valor Mínimos es = ' + str(Min))"
      ],
      "execution_count": 9,
      "outputs": [
        {
          "output_type": "stream",
          "text": [
            "Se calculan los valore máximos y minimos de los resultados\n",
            "El valor máximo es =77.0 \n",
            "El valor Mínimos es = -69.0\n"
          ],
          "name": "stdout"
        }
      ]
    },
    {
      "cell_type": "markdown",
      "metadata": {
        "id": "xILYkpXSJZTD"
      },
      "source": [
        "Adicionalmente vemos que efectivamente los valores mínimo y máximo son $-69$ y $77$ respectivamente."
      ]
    },
    {
      "cell_type": "code",
      "metadata": {
        "colab": {
          "base_uri": "https://localhost:8080/",
          "height": 524
        },
        "id": "94VAvBHBzZz-",
        "outputId": "2f3eca38-27e9-4ef4-aafe-27228affa523"
      },
      "source": [
        "############################################################\n",
        "# Histograma de valores obtenidos aleatoriamente\n",
        "############################################################\n",
        "\n",
        "valores = lista   #Lista valores enteros obtenidos a partir de expresiones aleatorias\n",
        "\n",
        "intervalos = range(int(min(valores)), int(max(valores)) + 2)  #Calculamos los extremos de los intervalos\n",
        "plot.figure(figsize=(35,8))\n",
        "plot.hist(x=valores, bins=intervalos, color='#F2AB6D', rwidth=0.85)\n",
        "plot.title('Histograma de valores de expresiones aleatorias')\n",
        "plot.xlabel('Valores')\n",
        "plot.ylabel('Frecuencia')\n",
        "plot.xticks(intervalos, rotation=90)\n",
        "\n",
        "\n",
        "plot.show() #Dibujamos el histograma"
      ],
      "execution_count": 10,
      "outputs": [
        {
          "output_type": "display_data",
          "data": {
            "image/png": "[encoded data removed]",
            "text/plain": [
              "<Figure size 2520x576 with 1 Axes>"
            ]
          },
          "metadata": {
            "tags": [],
            "needs_background": "light"
          }
        }
      ]
    },
    {
      "cell_type": "markdown",
      "metadata": {
        "id": "3_-exlrTgLd-"
      },
      "source": [
        "## (*)¿Cuantas posibilidades hay sin tener en cuenta las restricciones?<br>\n",
        "\n"
      ]
    },
    {
      "cell_type": "markdown",
      "metadata": {
        "id": "WfCUqJyKhPcw"
      },
      "source": [
        "Respuesta"
      ]
    },
    {
      "cell_type": "markdown",
      "metadata": {
        "id": "8lY0zu9xZeTB"
      },
      "source": [
        "Si no se toma en cuenta la restricción de no repetir los números o las operaciones, tenemos infinitas posibilidades pues por ejemplo para calcular el número 4 lo podemos hacer de la siguiente manera:\n",
        "$$4 = 4 * i/i-i+i, i \\in \\mathbb{Z^+} $$ <bf>\n",
        "$$4 = 4 - i+i-i+i, i \\in \\mathbb{Z^+} $$\n",
        "\n",
        "Donde $i$ es cualquier número entero mayor que $0$, creando un código para comprobarlo tenemos:"
      ]
    },
    {
      "cell_type": "code",
      "metadata": {
        "id": "iq6Fe32MgpDX",
        "colab": {
          "base_uri": "https://localhost:8080/"
        },
        "outputId": "f8ed61e1-209b-465b-fad5-9dc29ef17583"
      },
      "source": [
        "def sin_restricciones(x, N):     #x: número que queremos encontrar, N: cualquier entero mayor a 0 \n",
        "  for i in range(1,N):           \n",
        "    exp = str(x) +'*'+ str(i) +'/'+ str(i) +'-'+ str(i) +'+'+ str(i)  #Hacer expresión de la forma x*i/i-i+i\n",
        "    result = eval(exp)                                                #Evaluar expresión\n",
        "    print(str(exp) +' = '+ str(round(result)))  \n",
        "\n",
        "#Ejemplo con 10 expresiones, pero pueden ser tantas como se quieran  \n",
        "sin_restricciones(4,10) \n",
        "print('    ...    ')"
      ],
      "execution_count": 11,
      "outputs": [
        {
          "output_type": "stream",
          "text": [
            "4*1/1-1+1 = 4\n",
            "4*2/2-2+2 = 4\n",
            "4*3/3-3+3 = 4\n",
            "4*4/4-4+4 = 4\n",
            "4*5/5-5+5 = 4\n",
            "4*6/6-6+6 = 4\n",
            "4*7/7-7+7 = 4\n",
            "4*8/8-8+8 = 4\n",
            "4*9/9-9+9 = 4\n",
            "    ...    \n"
          ],
          "name": "stdout"
        }
      ]
    },
    {
      "cell_type": "markdown",
      "metadata": {
        "id": "M-7r6d57gNkK"
      },
      "source": [
        "## ¿Cuantas posibilidades hay teniendo en cuenta todas las restricciones.\n",
        "\n",
        "Respuesta:\n",
        "\n",
        "Teniendo en cuenta las restricciones de no repetir cifras ni signos, las posibilidades van a ser finitas y dependeran del número que se esté buscando, sabemos que son finitas pues el número posible de expresiones se puede calcular por medio de la expresión: \n",
        "$$9\\mathbf{P} 5 * 4 \\mathbf{P} 4 = 362880$$\n",
        "Por lo tanto tenemos $362880$ posibles expresiones diferentes, claramente varias de estas expresiones al evaluarlas tendran los mismos resultados. "
      ]
    },
    {
      "cell_type": "code",
      "metadata": {
        "colab": {
          "base_uri": "https://localhost:8080/"
        },
        "id": "d2jpnOzeOROA",
        "outputId": "e11fea63-c56c-429a-af68-55a40722248e"
      },
      "source": [
        "Expresiones = []\n",
        "Resultados= []\n",
        "cont = 0\n",
        "\n",
        "for i in itertools.permutations(digitos, 5):\n",
        "  for j in itertools.permutations(operaciones, 4):\n",
        "    exp = str(i[0])+ str(j[0]) + str(i[1]) + str(j[1]) + str(i[2]) + str(j[2]) + str(i[3]) + str(j[3]) + str(i[4])\n",
        "    Expresiones.append(exp)\n",
        "    resul = eval(exp)\n",
        "    #print(str(exp) + '=' + str(resultados))\n",
        "    cont = cont + 1\n",
        "    Resultados.append(resul)\n",
        "print('Total de expresiones:', cont)\n"
      ],
      "execution_count": 12,
      "outputs": [
        {
          "output_type": "stream",
          "text": [
            "Total de expresiones: 362880\n"
          ],
          "name": "stdout"
        }
      ]
    },
    {
      "cell_type": "markdown",
      "metadata": {
        "id": "dzynfVJahHoY"
      },
      "source": [
        "Modelo para el espacio de soluciones<br>\n",
        "\n",
        "## (*) ¿Cuál es la estructura de datos que mejor se adapta al problema? \n",
        "\n",
        "Argumentalo.(Es posible que hayas elegido una al principio y veas la necesidad de cambiar, argumentalo)\n"
      ]
    },
    {
      "cell_type": "markdown",
      "metadata": {
        "id": "xFIJrOwKi2Ti"
      },
      "source": [
        "Respuesta"
      ]
    },
    {
      "cell_type": "markdown",
      "metadata": {
        "id": "kzel-aCZqB_y"
      },
      "source": [
        "Al ser un problema de busqueda, podemos adaptar el problema a una estructura de árbol, donde al ir añadiendo los simbolos y las cifras, el árbol se va expandiendo. Por lo tanto se pueden utilizar diversas herramientas de busqueda para encontrar las posibles soluciones."
      ]
    },
    {
      "cell_type": "markdown",
      "metadata": {
        "id": "7Z9U2W7bi-XS"
      },
      "source": [
        "Según el modelo para el espacio de soluciones<br>\n",
        "\n",
        "(*)¿Cual es la función objetivo?\n",
        "\n",
        "(*)¿Es un problema de maximización o minimización?"
      ]
    },
    {
      "cell_type": "markdown",
      "metadata": {
        "id": "hBalWLM7j1_d"
      },
      "source": [
        "Respuesta"
      ]
    },
    {
      "cell_type": "markdown",
      "metadata": {
        "id": "jUQuRaaU8QMz"
      },
      "source": [
        "Al ser un problema de busqueda, al contrario de un problema de optmización, no se puede hablar de función objetivo, y por lo tanto tampoco se puede decir si es un problema de minimización o máximización. Se trata de buscar un valor, empleando un algoritmo, pero este algoritmo no tiene una función objetivo establecida. "
      ]
    },
    {
      "cell_type": "markdown",
      "metadata": {
        "id": "rlnTYgY1j6I2"
      },
      "source": [
        "## Diseña un algoritmo para resolver el problema por fuerza bruta"
      ]
    },
    {
      "cell_type": "markdown",
      "metadata": {
        "id": "70rDgxYXkC8r"
      },
      "source": [
        "Respuesta"
      ]
    },
    {
      "cell_type": "markdown",
      "metadata": {
        "id": "phLDYPTe6Naf"
      },
      "source": [
        "Al realizar un algoritmo que resuelva el problema por fuerza bruta, es necesario explorar todas las posibles expresiones, evaluarlas y compararlas con el número buscado, por lo tanto se debe escribir un algoritmo que retorne todas las posibles expresiones."
      ]
    },
    {
      "cell_type": "code",
      "metadata": {
        "id": "vLxQoe9S14qZ"
      },
      "source": [
        "#Crear listas con los dígitos y operaciones descritas en el problema\n",
        "#digitos = ['1','2','3','4','5','6','7','8','9'] \n",
        "#operaciones = ['/','*','+','-']"
      ],
      "execution_count": 13,
      "outputs": []
    },
    {
      "cell_type": "code",
      "metadata": {
        "id": "Q-f9LanymjpW"
      },
      "source": [
        "def fuerza_b(n):\n",
        "  Expresiones = []\n",
        "  Resultados= []\n",
        "\n",
        "  for i in itertools.permutations(digitos, 5):\n",
        "    for j in itertools.permutations(operaciones, 4):\n",
        "      exp = str(i[0])+ str(j[0]) + str(i[1]) + str(j[1]) + str(i[2]) + str(j[2]) + str(i[3]) + str(j[3]) + str(i[4])\n",
        "      resul = eval(exp)\n",
        "\n",
        "      if resul == n:\n",
        "        #print(str(exp) + '=' + str(resul))\n",
        "        return(str(exp) + '=' + str(resul))  #En caso de querer la primera expresión activar esta linea\n",
        "   "
      ],
      "execution_count": 23,
      "outputs": []
    },
    {
      "cell_type": "code",
      "metadata": {
        "colab": {
          "base_uri": "https://localhost:8080/"
        },
        "id": "dIGGfevF-ATO",
        "outputId": "871c6254-894f-43e7-b85d-84d8b2607225"
      },
      "source": [
        "#Ejemplo: Todas las maneras de obtener 72 por fuerza bruta\n",
        "fuerza_b(72)"
      ],
      "execution_count": 24,
      "outputs": [
        {
          "output_type": "stream",
          "text": [
            "2-6/3+8*9=72.0\n",
            "2-6/3+9*8=72.0\n",
            "2+8*9-6/3=72.0\n",
            "2+9*8-6/3=72.0\n",
            "3-6/2+8*9=72.0\n",
            "3-6/2+9*8=72.0\n",
            "3+8*9-6/2=72.0\n",
            "3+9*8-6/2=72.0\n",
            "6/2-3+8*9=72.0\n",
            "6/2-3+9*8=72.0\n",
            "6/2+8*9-3=72.0\n",
            "6/2+9*8-3=72.0\n",
            "6/3-2+8*9=72.0\n",
            "6/3-2+9*8=72.0\n",
            "6/3+8*9-2=72.0\n",
            "6/3+9*8-2=72.0\n",
            "8*9+2-6/3=72.0\n",
            "8*9-2+6/3=72.0\n",
            "8*9+3-6/2=72.0\n",
            "8*9-3+6/2=72.0\n",
            "8*9+6/2-3=72.0\n",
            "8*9-6/2+3=72.0\n",
            "8*9+6/3-2=72.0\n",
            "8*9-6/3+2=72.0\n",
            "9*8+2-6/3=72.0\n",
            "9*8-2+6/3=72.0\n",
            "9*8+3-6/2=72.0\n",
            "9*8-3+6/2=72.0\n",
            "9*8+6/2-3=72.0\n",
            "9*8-6/2+3=72.0\n",
            "9*8+6/3-2=72.0\n",
            "9*8-6/3+2=72.0\n"
          ],
          "name": "stdout"
        }
      ]
    },
    {
      "cell_type": "markdown",
      "metadata": {
        "id": "tgrnsC2nkFa8"
      },
      "source": [
        "## Calcula la complejidad del algoritmo por fuerza bruta"
      ]
    },
    {
      "cell_type": "markdown",
      "metadata": {
        "id": "9eUd3xwckP68"
      },
      "source": [
        "Respuesta"
      ]
    },
    {
      "cell_type": "markdown",
      "metadata": {
        "id": "wSgRR9iquKb-"
      },
      "source": [
        "Dado que se está utilizando la función *permutations* de la librería *itertools* para permutar tanto las cifras como los signos, una vez escogida una cifra dentro de las $n$ posibilidades, en el siguiente paso puedo escoger $n-1$ cifras lo cual da como resultado $n*(n-1)$ opciones y así sucesivamente hasta completar la expresión, llegando a tener hasta $n!$ opciones, lo mismo pasaría con los signos, lo cual hace que la complejidad del algoritmo sea de  $O(n!)$, más aún, al tener $2$ ciclos *for*, el número de operaciones es bastante grande, pero sigue primando la complejidad $O(n!)$.  "
      ]
    },
    {
      "cell_type": "markdown",
      "metadata": {
        "id": "txbrmLmskReM"
      },
      "source": [
        "## (*)Diseña un algoritmo que mejore la complejidad del algortimo por fuerza bruta. Argumenta porque crees que mejora el algoritmo por fuerza bruta"
      ]
    },
    {
      "cell_type": "markdown",
      "metadata": {
        "id": "hLrVwt5QkZPD"
      },
      "source": [
        "Respuesta"
      ]
    },
    {
      "cell_type": "markdown",
      "metadata": {
        "id": "Ujb8WzYd1L21"
      },
      "source": [
        "Implementando un algoritmo de busqueda, lo que se hará es tener en cuenta si el número buscado es positivo o negativo, según sea el caso, se empezaran las expresiones con los signos $+, *$ o $/,-$ respectivamente y se evaluará la expresión inicial para decidir si continuar o no explorando esta expresión, añadiendole las posibilidades restantes. Así, se realiza una poda a aquellas expresiones que ya no van a arrojar buenos resultados y se continúa con aquellas que pueden dar una buena solución."
      ]
    },
    {
      "cell_type": "code",
      "metadata": {
        "id": "MxhEHY8Xmh1M"
      },
      "source": [
        "#Crear listas con los dígitos y operaciones descritas en el problema\n",
        "digitos = ['1','2','3','4','5','6','7','8','9'] \n",
        "operaciones1 = ['*', '+']\n",
        "operaciones2 = ['/', '-']\n",
        "\n",
        "Expresiones = []\n",
        "Resultados= []\n",
        "cont = 0\n",
        "\n",
        "def nueva_busqueda(n):\n",
        "  if n >= 0:               # Comprobar si el número es positivo\n",
        "    for i in itertools.permutations(digitos, 5):    #Escoger 5 valores sin repetición\n",
        "      for j in itertools.permutations(operaciones1, 2):     #Escoger entre los signos + o * \n",
        "          exp = str(i[0])+ str(j[0]) + str(i[1]) + str(j[1]) + str(i[2])   #Formar una expresión inicial con 3 cifras y los signos + y * \n",
        "          if eval(exp) > n:                                 #Comprobar si la expresión inicial es mayor que el número buscado para continuar con esta expresión, de lo contrario no se explora más \n",
        "            for k in itertools.permutations(operaciones2, 2):   #Permutar entre - y /\n",
        "              exp = exp + str(k[0]) + str(i[3]) + str(k[1]) + str(i[4])   #Añadir los nuevos signos y cifras a la expresión\n",
        "              if eval(exp) == n:                                          #Comprobar si el resultado de la expresión es igual al número buscado\n",
        "                #print(str(exp) + '=' + str(round(eval(exp))))            #Imprimir todas las soluciones \n",
        "                return(str(exp) + '=' + str(round(eval(exp))))            #Retornar la primera solución encontrada\n",
        "\n",
        "  else:                                                                   #En caso de que el numero sea negativo se hace un proceso similar pero ahora empezando por los signos - y /.\n",
        "    for i in itertools.permutations(digitos, 5): \n",
        "      for j in itertools.permutations(operaciones2, 2):        \n",
        "          exp = str(i[0])+ str(j[0]) + str(i[1]) + str(j[1]) + str(i[2]) \n",
        "          if eval(exp) > n:                                  #Comprobar si la expresión inicial es mayor que el número buscado para continuar con esta expresión, de lo contrario no se explora más \n",
        "            for k in itertools.permutations(operaciones1, 2):\n",
        "              exp = exp + str(k[0]) + str(i[3]) + str(k[1]) + str(i[4]) \n",
        "              if eval(exp) == n:\n",
        "                #print(str(exp) + '=' + str(round(eval(exp))))             #Imprimir todas las soluciones \n",
        "                return(str(exp) + '=' + str(round(eval(exp))))             #Retornar la primera solución encontrada\n",
        "\n",
        "  "
      ],
      "execution_count": 16,
      "outputs": []
    },
    {
      "cell_type": "code",
      "metadata": {
        "colab": {
          "base_uri": "https://localhost:8080/",
          "height": 35
        },
        "id": "Dt79RXBHLi0j",
        "outputId": "8fbc3c6b-4810-4589-c81c-651c82371a30"
      },
      "source": [
        "nueva_busqueda(-30)"
      ],
      "execution_count": 17,
      "outputs": [
        {
          "output_type": "execute_result",
          "data": {
            "application/vnd.google.colaboratory.intrinsic+json": {
              "type": "string"
            },
            "text/plain": [
              "'1-8/2*9+5=-30'"
            ]
          },
          "metadata": {
            "tags": []
          },
          "execution_count": 17
        }
      ]
    },
    {
      "cell_type": "markdown",
      "metadata": {
        "id": "6-aaUfSdMJNC"
      },
      "source": [
        "A continuación podemos ver que tanto con la fuerza bruta como con el nuevo algoritmo se pueden obtener todos los enteros en el rango de $(-69,77)$ aunque claramente en el caso de fuerza bruta el tiempo es mayor al tiempo del nuevo algoritmo. "
      ]
    },
    {
      "cell_type": "code",
      "metadata": {
        "colab": {
          "base_uri": "https://localhost:8080/"
        },
        "id": "luExwINlL_2K",
        "outputId": "34010d6f-06bf-4433-85b5-38046ec36359"
      },
      "source": [
        "#Encontrar números enteros en el rango (-69,77) con fuerza bruta\n",
        "lista = []\n",
        "for x in range(-69,78):       #Recorrer el rango deseado\n",
        "  lista.append(fuerza_b(x))   #Añadir expresión encontrada \n",
        "\n",
        "print(len(lista))    #Longitud de lista de expresiones encontradas"
      ],
      "execution_count": 18,
      "outputs": [
        {
          "output_type": "stream",
          "text": [
            "147\n"
          ],
          "name": "stdout"
        }
      ]
    },
    {
      "cell_type": "code",
      "metadata": {
        "colab": {
          "base_uri": "https://localhost:8080/"
        },
        "id": "pwZ0PMUiMIFB",
        "outputId": "4926a640-62a8-4f64-9982-eb7d1a7cf182"
      },
      "source": [
        "None in lista  #Comprobar si algún número no se pudo encontrar con el algoritmo "
      ],
      "execution_count": 19,
      "outputs": [
        {
          "output_type": "execute_result",
          "data": {
            "text/plain": [
              "False"
            ]
          },
          "metadata": {
            "tags": []
          },
          "execution_count": 19
        }
      ]
    },
    {
      "cell_type": "code",
      "metadata": {
        "id": "INLpJlPYzg0y",
        "colab": {
          "base_uri": "https://localhost:8080/"
        },
        "outputId": "1020104d-82a4-4e04-fbd5-9bc27851dde1"
      },
      "source": [
        "#Encontrar números enteros en el rango (-69,77) con el nuevo algoritmo \n",
        "lista = []\n",
        "for x in range(-69,78):       #Recorrer el rango deseado\n",
        "  lista.append(nueva_busqueda(x))   #Añadir expresión encontrada \n",
        "\n",
        "print(len(lista))    #Longitud de lista de expresiones encontradas"
      ],
      "execution_count": 20,
      "outputs": [
        {
          "output_type": "stream",
          "text": [
            "147\n"
          ],
          "name": "stdout"
        }
      ]
    },
    {
      "cell_type": "code",
      "metadata": {
        "id": "Z0qE03SW2bjz",
        "colab": {
          "base_uri": "https://localhost:8080/"
        },
        "outputId": "57e0699d-7e2c-46fb-f522-944640a57abb"
      },
      "source": [
        "None in lista  #Comprobar si algún número no se pudo encontrar con el algoritmo "
      ],
      "execution_count": 21,
      "outputs": [
        {
          "output_type": "execute_result",
          "data": {
            "text/plain": [
              "False"
            ]
          },
          "metadata": {
            "tags": []
          },
          "execution_count": 21
        }
      ]
    },
    {
      "cell_type": "markdown",
      "metadata": {
        "id": "eGDB4K6uk1iN"
      },
      "source": [
        "## (*)Calcula la complejidad del algoritmo "
      ]
    },
    {
      "cell_type": "markdown",
      "metadata": {
        "id": "NhpTh_BPk1ms"
      },
      "source": [
        "Respuesta"
      ]
    },
    {
      "cell_type": "markdown",
      "metadata": {
        "id": "2rZN619J3WDG"
      },
      "source": [
        "Al igual que el algoritmo de fuerza bruta, cómo se enunció anteriormente, al estar permutando entre cifras y signos, la complejidad del algoritmo va a ser de $O(n!)$, lo que si se va a reducir es el número de operaciones que se realizan dentro del algoritmo, ya que se están podando ramas, es decir, eliminando expresiones parciales que no van a llevar a la solución pero que con el algoritmo de fuerza bruta si se exploraban hasta el final. "
      ]
    },
    {
      "cell_type": "markdown",
      "metadata": {
        "id": "eTFWUJQrtGcv"
      },
      "source": [
        "Enumera las referencias que has utilizado(si ha sido necesario) para llevar a cabo el trabajo"
      ]
    },
    {
      "cell_type": "markdown",
      "metadata": {
        "id": "YKQ_mRBttWsP"
      },
      "source": [
        "Respuesta"
      ]
    },
    {
      "cell_type": "markdown",
      "metadata": {
        "id": "jINiqmxgmOoZ"
      },
      "source": [
        "https://docs.python.org/3/library/itertools.html#itertools.permutations"
      ]
    },
    {
      "cell_type": "markdown",
      "metadata": {
        "id": "kAkDPUyRtYyH"
      },
      "source": [
        "Describe brevemente las lineas de como crees que es posible avanzar en el estudio del problema. Ten en cuenta incluso posibles variaciones del problema y/o variaciones al alza del tamaño"
      ]
    },
    {
      "cell_type": "markdown",
      "metadata": {
        "id": "IE0uZmo-tZu-"
      },
      "source": [
        "Respuesta"
      ]
    },
    {
      "cell_type": "markdown",
      "metadata": {
        "id": "f70K2n0HM_xM"
      },
      "source": [
        "Se pueden implementar otras tecnicas de busqueda o incluso algoritmos geneticos que mejoren las soluciones y reduzcan el número de operaciones ejecutadas"
      ]
    }
  ]
}